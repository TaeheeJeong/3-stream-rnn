{
 "cells": [
  {
   "cell_type": "markdown",
   "metadata": {},
   "source": [
    "# Neon AlexNet Saved Weights\n",
    "Below is the script that converts the saved weights from the normal Imagenet architecture to the UCF-101 architecture. All we need to do is change the last 2 layers (weights and biases) to be of dimension 101 instead of 1000. \n",
    "\n",
    "Feel free to experiment with the structure of the saved weights below and check how the conversion is done."
   ]
  },
  {
   "cell_type": "code",
   "execution_count": 2,
   "metadata": {
    "collapsed": false
   },
   "outputs": [
    {
     "name": "stdout",
     "output_type": "stream",
     "text": [
      "(363, 64)\n",
      "(64, 1)\n",
      "(1600, 192)\n",
      "(192, 1)\n",
      "(1728, 384)\n",
      "(384, 1)\n",
      "(3456, 256)\n",
      "(256, 1)\n",
      "(2304, 256)\n",
      "(256, 1)\n",
      "(4096, 9216)\n",
      "(4096, 1)\n",
      "(4096, 4096)\n",
      "(4096, 1)\n",
      "(1000, 4096)\n",
      "(1000, 1)\n"
     ]
    }
   ],
   "source": [
    "import os\n",
    "import cv2\n",
    "import numpy as np \n",
    "import pickle\n",
    "\n",
    "if(not(os.path.isfile(\"alexnet.p\"))):\n",
    "    print \"Make sure to download the alexnet weights before running this script\"\n",
    "\n",
    "weights = pickle.load( open( \"alexnet.p\", \"rb\" ) )\n",
    "\n",
    "tmp = weights['layer_params_states']\n",
    "\n",
    "#Change the last layer of the AlexNet architecture weights to\n",
    "#be of size 101 instead of 1000\n",
    "for i in xrange(0,16):\n",
    "    print tmp[i]['params']['W'].shape\n",
    "    if(i==14):\n",
    "        W = tmp[i]['params']['W']\n",
    "        weights['layer_params_states'][i]['params']['W'] = W[0:101,:]\n",
    "        weights['layer_params_states'][i]['states'][0] = weights['layer_params_states'][i]['states'][0][0:101,:]\n",
    "    if(i==15):\n",
    "        W = tmp[i]['params']['W']\n",
    "        weights['layer_params_states'][i]['params']['W'] = W[0:101]\n",
    "        weights['layer_params_states'][i]['states'][0] = weights['layer_params_states'][i]['states'][0][0:101,:]\n",
    "pickle.dump( weights, open( \"my_alexnet.p\", \"wb\" ) )"
   ]
  },
  {
   "cell_type": "code",
   "execution_count": 11,
   "metadata": {
    "collapsed": false
   },
   "outputs": [
    {
     "name": "stdout",
     "output_type": "stream",
     "text": [
      "(363, 64)\n",
      "\n",
      "(64, 1)\n",
      "\n",
      "(1600, 192)\n",
      "\n",
      "(192, 1)\n",
      "\n",
      "(1728, 384)\n",
      "\n",
      "(384, 1)\n",
      "\n",
      "(3456, 256)\n",
      "\n",
      "(256, 1)\n",
      "\n",
      "(2304, 256)\n",
      "\n",
      "(256, 1)\n",
      "\n",
      "(4096, 9216)\n",
      "\n",
      "(4096, 1)\n",
      "\n",
      "(4096, 4096)\n",
      "\n",
      "(4096, 1)\n",
      "\n",
      "(101, 4096)\n",
      "\n",
      "(101, 1)\n",
      "\n"
     ]
    }
   ],
   "source": [
    "weights = pickle.load( open( \"my_alexnet.p\", \"rb\" ) )\n",
    "\n",
    "tmp = weights['layer_params_states']\n",
    "\n",
    "#Change the last layer of the AlexNet architecture weights to\n",
    "#be of size 101 instead of 1000\n",
    "for i in xrange(0,16):\n",
    "    #print tmp[i]['params']['W'].shape\n",
    "    print tmp[i]['states'][0].shape\n",
    "    print\n",
    "    '''\n",
    "    if(i==14):\n",
    "        W = tmp[i]['params']['W']\n",
    "        weights['layer_params_states'][i]['params']['W'] = W[0:101,:]\n",
    "    if(i==15):\n",
    "        W = tmp[i]['params']['W']\n",
    "        weights['layer_params_states'][i]['params']['W'] = W[0:101]\n",
    "    '''\n",
    "#pickle.dump( weights, open( \"my_alexnet.p\", \"wb\" ) )"
   ]
  },
  {
   "cell_type": "markdown",
   "metadata": {},
   "source": [
    "Confirming that the converted weights maintain the right dimensions in the last layer."
   ]
  },
  {
   "cell_type": "code",
   "execution_count": null,
   "metadata": {
    "collapsed": false
   },
   "outputs": [],
   "source": [
    "import os\n",
    "import cv2\n",
    "import numpy as np \n",
    "import pickle\n",
    "\n",
    "weights = pickle.load( open( \"my_alexnet.p\", \"rb\" ) )\n",
    "\n",
    "for i in xrange(0,16):\n",
    "    print weights['layer_params_states'][i]['params']['W'].shape\n",
    "    if(i==14):\n",
    "        print \"Final layer weight dimensions: \" ,weights['layer_params_states'][i]['params']['W'].shape\n",
    "    if(i==15):\n",
    "        print \"Final layer bias dimensions: \" , weights['layer_params_states'][i]['params']['W'].shape"
   ]
  },
  {
   "cell_type": "code",
   "execution_count": null,
   "metadata": {
    "collapsed": false
   },
   "outputs": [],
   "source": [
    "print weights['layer_params_states'][15]['states'][0].shape"
   ]
  },
  {
   "cell_type": "code",
   "execution_count": null,
   "metadata": {
    "collapsed": true
   },
   "outputs": [],
   "source": []
  }
 ],
 "metadata": {
  "kernelspec": {
   "display_name": "Python 2",
   "language": "python",
   "name": "python2"
  },
  "language_info": {
   "codemirror_mode": {
    "name": "ipython",
    "version": 2
   },
   "file_extension": ".py",
   "mimetype": "text/x-python",
   "name": "python",
   "nbconvert_exporter": "python",
   "pygments_lexer": "ipython2",
   "version": "2.7.6"
  }
 },
 "nbformat": 4,
 "nbformat_minor": 0
}
