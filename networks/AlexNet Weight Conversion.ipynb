{
 "cells": [
  {
   "cell_type": "markdown",
   "metadata": {},
   "source": [
    "# Neon AlexNet Saved Weights\n",
    "Below is the script that converts the saved weights from the normal Imagenet architecture to the UCF-101 architecture. All we need to do is change the last 2 layers (weights and biases) to be of dimension 101 instead of 1000. \n",
    "\n",
    "Feel free to experiment with the structure of the saved weights below and check how the conversion is done."
   ]
  },
  {
   "cell_type": "code",
   "execution_count": 2,
   "metadata": {
    "collapsed": false
   },
   "outputs": [],
   "source": [
    "import os\n",
    "import cv2\n",
    "import numpy as np \n",
    "import pickle\n",
    "\n",
    "if(not(os.path.isfile(\"alexnet.p\"))):\n",
    "    print \"Make sure to download the alexnet weights before running this script\"\n",
    "\n",
    "weights = pickle.load( open( \"alexnet.p\", \"rb\" ) )\n",
    "\n",
    "tmp = weights['layer_params_states']\n",
    "\n",
    "#Change the last layer of the AlexNet architecture weights to\n",
    "#be of size 101 instead of 1000\n",
    "for i in xrange(0,16):\n",
    "    if(i==14):\n",
    "        W = tmp[i]['params']['W']\n",
    "        tmp[i]['params']['W'] = W[0:101,:]\n",
    "    if(i==15):\n",
    "        W = tmp[i]['params']['W']\n",
    "        tmp[i]['params']['W'] = W[0:101]\n",
    "        \n",
    "pickle.dump( weights, open( \"my_alexnet.p\", \"wb\" ) )"
   ]
  },
  {
   "cell_type": "markdown",
   "metadata": {},
   "source": [
    "Confirming that the converted weights maintain the right dimensions in the last layer."
   ]
  },
  {
   "cell_type": "code",
   "execution_count": 3,
   "metadata": {
    "collapsed": false
   },
   "outputs": [
    {
     "name": "stdout",
     "output_type": "stream",
     "text": [
      "Final layer weight dimensions:  (101, 4096)\n",
      "Final layer bias dimensions:  (101, 1)\n"
     ]
    }
   ],
   "source": [
    "weights = pickle.load( open( \"alexnet.p\", \"rb\" ) )\n",
    "\n",
    "for i in xrange(0,16):\n",
    "    if(i==14):\n",
    "        print \"Final layer weight dimensions: \" ,tmp[i]['params']['W'].shape\n",
    "    if(i==15):\n",
    "        print \"Final layer bias dimensions: \" , tmp[i]['params']['W'].shape"
   ]
  },
  {
   "cell_type": "code",
   "execution_count": null,
   "metadata": {
    "collapsed": true
   },
   "outputs": [],
   "source": []
  }
 ],
 "metadata": {
  "kernelspec": {
   "display_name": "Python 2",
   "language": "python",
   "name": "python2"
  },
  "language_info": {
   "codemirror_mode": {
    "name": "ipython",
    "version": 2
   },
   "file_extension": ".py",
   "mimetype": "text/x-python",
   "name": "python",
   "nbconvert_exporter": "python",
   "pygments_lexer": "ipython2",
   "version": "2.7.6"
  }
 },
 "nbformat": 4,
 "nbformat_minor": 0
}
