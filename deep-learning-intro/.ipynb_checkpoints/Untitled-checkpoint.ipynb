{
 "cells": [
  {
   "cell_type": "markdown",
   "metadata": {},
   "source": [
    "# Intro to Deep Learning\n",
    "My hope is that this will be a good introduction to what deep learning is, what the objective of it is, how to use it, when to use it, and many of its derivative algorithms.\n",
    "\n",
    "## Perceptron\n",
    "The basic unit of a neural network is the perceptron displayed below. It takes in a variable amount of inputs, aggregates them according to sum function (could be a linear sum or something else entirely) and then produces an output depending on the output.\n",
    "![Perceptron](/img191.gif)"
   ]
  },
  {
   "cell_type": "code",
   "execution_count": null,
   "metadata": {
    "collapsed": true
   },
   "outputs": [],
   "source": []
  }
 ],
 "metadata": {
  "kernelspec": {
   "display_name": "Python 2",
   "language": "python",
   "name": "python2"
  },
  "language_info": {
   "codemirror_mode": {
    "name": "ipython",
    "version": 2
   },
   "file_extension": ".py",
   "mimetype": "text/x-python",
   "name": "python",
   "nbconvert_exporter": "python",
   "pygments_lexer": "ipython2",
   "version": "2.7.6"
  }
 },
 "nbformat": 4,
 "nbformat_minor": 0
}
